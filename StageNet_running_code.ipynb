{
  "nbformat": 4,
  "nbformat_minor": 0,
  "metadata": {
    "colab": {
      "provenance": []
    },
    "kernelspec": {
      "name": "python3",
      "display_name": "Python 3"
    },
    "language_info": {
      "name": "python"
    },
    "accelerator": "GPU",
    "gpuClass": "standard"
  },
  "cells": [
    {
      "cell_type": "code",
      "execution_count": null,
      "metadata": {
        "id": "k8EUy6tTnvbV"
      },
      "outputs": [],
      "source": [
        "# !git clone https://github.com/v1xerunt/StageNet.git"
      ]
    },
    {
      "cell_type": "code",
      "source": [
        "from google.colab import drive\n",
        "drive.mount('/content/drive')"
      ],
      "metadata": {
        "colab": {
          "base_uri": "https://localhost:8080/"
        },
        "id": "APnMXxFMnxsc",
        "outputId": "43089f0a-5a76-471f-dfa4-d0b99bffcd98"
      },
      "execution_count": null,
      "outputs": [
        {
          "output_type": "stream",
          "name": "stdout",
          "text": [
            "Mounted at /content/drive\n"
          ]
        }
      ]
    },
    {
      "cell_type": "code",
      "source": [
        "import sys\n",
        "sys.path.insert(0, '/content/drive/My Drive/StageNet')"
      ],
      "metadata": {
        "id": "D4NcNiU0ost3"
      },
      "execution_count": null,
      "outputs": []
    },
    {
      "cell_type": "code",
      "source": [
        "!unzip /content/drive/MyDrive/StageNet/data.zip"
      ],
      "metadata": {
        "id": "vu31nmJjrBld"
      },
      "execution_count": null,
      "outputs": []
    },
    {
      "cell_type": "code",
      "source": [
        "!ls ./data"
      ],
      "metadata": {
        "colab": {
          "base_uri": "https://localhost:8080/"
        },
        "id": "8L1fliR03bW1",
        "outputId": "76ee3dc4-9660-4c0f-afe3-d43c49ed45ba"
      },
      "execution_count": null,
      "outputs": [
        {
          "output_type": "stream",
          "name": "stdout",
          "text": [
            "decomp_normalizer  test\t\t      train\t\t  val_listfile.csv\n",
            "README.md\t   test_listfile.csv  train_listfile.csv\n"
          ]
        }
      ]
    },
    {
      "cell_type": "code",
      "source": [
        "#to train from scratch: !python ./drive/MyDrive/StageNet/train.py --data_path='./data/' --file_name='path_to_pretrain_weight' --epoch=50 --batch_size=64\n",
        "#to continue to train: !python ./drive/MyDrive/StageNet/train.py --data_path='./data/' --file_name='path_to_pretrain_weight' --continueTrain=1 --epoch=50 --batch_size=64\n",
        "#to run Evaluation: !python ./drive/MyDrive/StageNet/train.py --data_path='./data/' --test_mode=1 --file_name='path_to_pretrain_weight'\n",
        "!python ./drive/MyDrive/StageNet/train.py --data_path='./data/' --file_name='train_replace'"
      ],
      "metadata": {
        "colab": {
          "base_uri": "https://localhost:8080/"
        },
        "id": "bTjm8UbCuo2K",
        "outputId": "ba400695-f8e5-4ed9-cade-7d5f8097fe07"
      },
      "execution_count": 1,
      "outputs": [
        {
          "output_type": "stream",
          "name": "stdout",
          "text": [
            "python3: can't open file '/content/./drive/MyDrive/StageNet/train.py': [Errno 2] No such file or directory\n"
          ]
        }
      ]
    },
    {
      "cell_type": "code",
      "source": [],
      "metadata": {
        "id": "M_F0uCwXZNtk"
      },
      "execution_count": null,
      "outputs": []
    }
  ]
}