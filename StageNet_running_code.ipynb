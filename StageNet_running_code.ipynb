{
  "nbformat": 4,
  "nbformat_minor": 0,
  "metadata": {
    "colab": {
      "provenance": []
    },
    "kernelspec": {
      "name": "python3",
      "display_name": "Python 3"
    },
    "language_info": {
      "name": "python"
    },
    "accelerator": "GPU",
    "gpuClass": "standard"
  },
  "cells": [
    {
      "cell_type": "code",
      "execution_count": null,
      "metadata": {
        "id": "k8EUy6tTnvbV"
      },
      "outputs": [],
      "source": [
        "# !git clone https://github.com/v1xerunt/StageNet.git"
      ]
    },
    {
      "cell_type": "code",
      "source": [
        "from google.colab import drive\n",
        "drive.mount('/content/drive')"
      ],
      "metadata": {
        "colab": {
          "base_uri": "https://localhost:8080/"
        },
        "id": "APnMXxFMnxsc",
        "outputId": "3bee1bf9-0725-4ef3-ac63-793714624c20"
      },
      "execution_count": 4,
      "outputs": [
        {
          "output_type": "stream",
          "name": "stdout",
          "text": [
            "Mounted at /content/drive\n"
          ]
        }
      ]
    },
    {
      "cell_type": "code",
      "source": [
        "import sys\n",
        "sys.path.insert(0, '/content/drive/My Drive/StageNet')"
      ],
      "metadata": {
        "id": "D4NcNiU0ost3"
      },
      "execution_count": 3,
      "outputs": []
    },
    {
      "cell_type": "code",
      "source": [
        "!unzip /content/drive/MyDrive/StageNet/data.zip"
      ],
      "metadata": {
        "id": "vu31nmJjrBld"
      },
      "execution_count": null,
      "outputs": []
    },
    {
      "cell_type": "code",
      "source": [
        "!ls ./data"
      ],
      "metadata": {
        "colab": {
          "base_uri": "https://localhost:8080/"
        },
        "id": "8L1fliR03bW1",
        "outputId": "cc508e26-7d1c-48cb-82d1-bdae312300f1"
      },
      "execution_count": 8,
      "outputs": [
        {
          "output_type": "stream",
          "name": "stdout",
          "text": [
            "decomp_normalizer  test\t\t      train\t\t  val_listfile.csv\n",
            "README.md\t   test_listfile.csv  train_listfile.csv\n"
          ]
        }
      ]
    },
    {
      "cell_type": "code",
      "source": [],
      "metadata": {
        "id": "MMWAYA2Cd9hV"
      },
      "execution_count": null,
      "outputs": []
    },
    {
      "cell_type": "code",
      "source": [
        "#to train from scratch: !python ./drive/MyDrive/StageNet/train.py --data_path='./data/' --file_name='weight_name' --epoch=50 --batch_size=64\n",
        "#to continue to train: !python ./drive/MyDrive/StageNet/train.py --data_path='./data/' --file_name='path_to_pretrain_weight' --continueTrain=1 --epoch=50 --batch_size=64\n",
        "#to run Evaluation: !python ./drive/MyDrive/StageNet/train.py --data_path='./data/' --test_mode=1 --file_name='path_to_pretrain_weight'\n",
        "# !python ./drive/MyDrive/StageNet/train.py --data_path='./data/' --file_name='train_replace'\n",
        "!python ./drive/MyDrive/StageNet/train.py --data_path='./data/' --file_name='testing' --epoch=50 --batch_size=64"
      ],
      "metadata": {
        "colab": {
          "base_uri": "https://localhost:8080/"
        },
        "id": "bTjm8UbCuo2K",
        "outputId": "03a62b9a-5914-4133-f864-060c1ad7ae12"
      },
      "execution_count": 14,
      "outputs": [
        {
          "output_type": "stream",
          "name": "stdout",
          "text": [
            "/content/./drive/MyDrive/StageNet/train.py:4: DeprecationWarning: the imp module is deprecated in favour of importlib and slated for removal in Python 3.12; see the module's documentation for alternative uses\n",
            "  import imp\n",
            "Preparing training data ... \n",
            "train\n",
            "Traceback (most recent call last):\n",
            "  File \"/content/./drive/MyDrive/StageNet/train.py\", line 151, in <module>\n",
            "    train_data_loader = common_utils.DeepSupervisionDataLoader(dataset_dir=os.path.join(\n",
            "  File \"/content/drive/MyDrive/StageNet/utils/common_utils.py\", line 138, in __init__\n",
            "    self._data = [line.split(',') for line in self._data]\n",
            "  File \"/content/drive/MyDrive/StageNet/utils/common_utils.py\", line 138, in <listcomp>\n",
            "    self._data = [line.split(',') for line in self._data]\n",
            "KeyboardInterrupt\n",
            "^C\n"
          ]
        }
      ]
    },
    {
      "cell_type": "code",
      "source": [],
      "metadata": {
        "id": "M_F0uCwXZNtk"
      },
      "execution_count": null,
      "outputs": []
    },
    {
      "cell_type": "markdown",
      "source": [
        "# Descriptive Notebook (Bonus 5 Points)"
      ],
      "metadata": {
        "id": "pEi1iim1ePP7"
      }
    },
    {
      "cell_type": "markdown",
      "source": [
        "##Reproducibility summary (1)"
      ],
      "metadata": {
        "id": "SFwvmT6weKwM"
      }
    },
    {
      "cell_type": "markdown",
      "source": [
        "We have reproduced the StageNet and the experiments in the paper. We used the same hyperparameters reported in the paper, but we did not achieve the performance claimed in the original paper. However, when compared to the trained weight provided by the author in the official github, our reproduced value for AUPRC is within 17% of author trained weight value, the AUROC is within 1% of author trained weight value, and min(Re, P+) is within 10% author trained weight value.\n",
        "\n",
        "We have tested several combination of learning rate [1e-3, 5e-4, 1e-4] and dropout rates [0.3, 0.5], we also added learning rate decay as it was not presented in the original experiment. The result is that adding learning rate decay can boost the performance. Specifically, 2.2% improvement in AUPRC and a 4.6% improvement in min(Re,P+) over the StageNet model\n",
        "with default settings.\n",
        "\n",
        "We have conducted ablation study to replace stage-aware LSTM cell and stage-adaptive convolutional network with default LSTM cell and linear layers. The result shows that the performance both degrades when the module are replaced, suggesting that stage-aware LSTM cell and stage-adaptive convolutional network can really capture the stage information, so the claims from the paper are true."
      ],
      "metadata": {
        "id": "eviJwfptewpR"
      }
    },
    {
      "cell_type": "markdown",
      "source": [
        "##Visualization of data statistics (1)"
      ],
      "metadata": {
        "id": "-tk_TfyDeV8l"
      }
    },
    {
      "cell_type": "code",
      "source": [
        "!python ./drive/MyDrive/StageNet/visualize.py"
      ],
      "metadata": {
        "colab": {
          "base_uri": "https://localhost:8080/"
        },
        "id": "Zj8zrKtAeh8r",
        "outputId": "db7ef61f-f1c2-4122-bd3b-5dd05c2fd375"
      },
      "execution_count": 16,
      "outputs": [
        {
          "output_type": "stream",
          "name": "stdout",
          "text": [
            "/content/./drive/MyDrive/StageNet/visualize.py:4: DeprecationWarning: the imp module is deprecated in favour of importlib and slated for removal in Python 3.12; see the module's documentation for alternative uses\n",
            "  import imp\n",
            "train\n",
            "length of data_X =  28106\n",
            "length of data_X =  [array([['0.38333333333333336', '', '', '', '', '', '', '', '143.0', '',\n",
            "        '', '', '', '', '', '', '', '7.36'],\n",
            "       ['2.5', '', '85.0', '', '', '', '', '', '', '90', '', '103',\n",
            "        '94.0', '14', '138.0', '37.722223069932724', '', ''],\n",
            "       ['3.0', '', '86.0', '', '1 No Response', '5 Localizes Pain', '7',\n",
            "        '1.0 ET/Trach', '', '92', '', '104', '100.0', '14', '141.0', '',\n",
            "        '', ''],\n",
            "       ['3.1666666666666665', '', '', '', '', '', '', '', '142.0', '',\n",
            "        '', '', '100.0', '14', '', '', '', ''],\n",
            "       ['3.3666666666666667', '', '', '', '', '', '', '', '', '', '', '',\n",
            "        '', '', '', '', '', '7.43'],\n",
            "       ['4.0', '', '90.0', '', '', '', '', '', '', '98', '', '109',\n",
            "        '100.0', '14', '144.0', '38.16669845581055', '', ''],\n",
            "       ['5.0', '', '90.0', '', '', '', '', '', '', '99', '', '109',\n",
            "        '100.0', '14', '147.0', '', '', ''],\n",
            "       ['6.0', '', '93.0', '', '', '', '', '', '', '106', '', '113',\n",
            "        '100.0', '14', '152.0', '39.11111195882162', '', ''],\n",
            "       ['7.0', '', '88.0', '', '', '', '', '', '', '106', '', '106',\n",
            "        '100.0', '14', '145.0', '', '', ''],\n",
            "       ['8.0', '', '86.0', '', '3 To speech', '5 Localizes Pain', '9',\n",
            "        '1.0 ET/Trach', '', '103', '', '103', '100.0', '14', '141.0',\n",
            "        '39.11111195882162', '', ''],\n",
            "       ['8.5', '', '85.0', '', '', '', '', '', '', '112', '', '102',\n",
            "        '100.0', '16', '135.0', '', '', ''],\n",
            "       ['9.0', '', '88.0', '', '', '', '', '', '', '105', '', '110',\n",
            "        '100.0', '9', '151.0', '', '', ''],\n",
            "       ['9.3', '', '', '', '', '', '', '', '', '', '', '', '', '', '',\n",
            "        '', '', '7.37'],\n",
            "       ['10.0', '', '86.0', '', '4 Spontaneously', '6 Obeys Commands',\n",
            "        '11', '1.0 ET/Trach', '', '108', '', '104', '100.0', '20',\n",
            "        '137.0', '38.66669845581055', '', ''],\n",
            "       ['10.1', '', '', '', '', '', '', '', '', '', '', '', '98.0', '',\n",
            "        '', '', '', '7.37'],\n",
            "       ['11.0', '', '83.0', '', '', '', '', '', '', '103', '', '100',\n",
            "        '99.0', '22', '130.0', '', '', ''],\n",
            "       ['11.3', '', '', '', '', '', '', '', '', '', '', '', '', '', '',\n",
            "        '', '', '7.35'],\n",
            "       ['12.0', '', '81.0', '', '4 Spontaneously', '6 Obeys Commands',\n",
            "        '11', '1.0 ET/Trach', '', '103', '', '98', '99.0', '23', '127.0',\n",
            "        '37.555599212646484', '', ''],\n",
            "       ['12.5', '', '82.0', '', '', '', '', '', '', '106', '', '101',\n",
            "        '97.0', '20', '132.0', '', '', ''],\n",
            "       ['13.0', '', '74.0', '', '', '', '', '', '', '99', '', '89',\n",
            "        '96.0', '23', '114.0', '', '', ''],\n",
            "       ['13.533333333333333', '', '', '', '', '', '', '', '', '', '', '',\n",
            "        '', '', '', '', '', '7.33'],\n",
            "       ['14.0', '', '71.0', '', '4 Spontaneously', '6 Obeys Commands',\n",
            "        '15', '5 Oriented', '', '98', '', '88', '97.0', '20', '115.0',\n",
            "        '', '', ''],\n",
            "       ['14.5', '', '69.0', '', '', '', '', '', '', '', '', '', '', '24',\n",
            "        '119.0', '', '', ''],\n",
            "       ['15.0', '', '85.0', '', '', '', '', '', '', '93', '', '106',\n",
            "        '98.0', '23', '145.0', '', '', ''],\n",
            "       ['16.0', '', '82.0', '', '4 Spontaneously', '6 Obeys Commands',\n",
            "        '15', '5 Oriented', '', '85', '', '103', '100.0', '31', '140.0',\n",
            "        '37.055599212646484', '', ''],\n",
            "       ['17.0', '', '74.0', '', '', '', '', '', '', '83', '', '91',\n",
            "        '100.0', '25', '119.0', '', '', ''],\n",
            "       ['18.0', '', '71.0', '', '4 Spontaneously', '6 Obeys Commands',\n",
            "        '15', '5 Oriented', '', '93', '', '85', '99.0', '18', '109.0',\n",
            "        '', '', ''],\n",
            "       ['19.0', '', '76.0', '', '', '', '', '', '', '87', '', '94',\n",
            "        '100.0', '22', '124.0', '', '', ''],\n",
            "       ['20.0', '', '71.0', '', '4 Spontaneously', '6 Obeys Commands',\n",
            "        '15', '5 Oriented', '', '94', '', '88', '96.0', '21', '120.0',\n",
            "        '36.88890075683594', '', ''],\n",
            "       ['21.0', '', '75.0', '', '', '', '', '', '', '91', '', '92',\n",
            "        '99.0', '20', '122.0', '', '', ''],\n",
            "       ['22.0', '', '74.0', '', '', '', '', '', '', '81', '', '93',\n",
            "        '100.0', '20', '127.0', '', '', ''],\n",
            "       ['23.0', '', '72.0', '', '', '', '', '', '', '84', '', '90',\n",
            "        '99.0', '17', '124.0', '', '', ''],\n",
            "       ['24.0', '', '73.0', '', '', '', '', '', '', '95', '', '92',\n",
            "        '96.0', '21', '125.0', '37.0', '', ''],\n",
            "       ['25.0', '', '74.0', '', '', '', '', '', '', '98', '', '92',\n",
            "        '99.0', '20', '126.0', '', '', ''],\n",
            "       ['26.0', '', '72.0', '', '', '', '', '', '', '92', '', '88',\n",
            "        '96.0', '19', '117.0', '', '', ''],\n",
            "       ['27.0', '', '73.0', '', '', '', '', '', '', '96', '', '92',\n",
            "        '98.0', '20', '124.0', '', '', ''],\n",
            "       ['28.0', '', '77.0', '', '4 Spontaneously', '6 Obeys Commands',\n",
            "        '15', '5 Oriented', '86.0', '85', '', '95', '98.0', '16',\n",
            "        '129.0', '36.88890075683594', '', ''],\n",
            "       ['28.466666666666665', '', '', '', '', '', '', '', '', '', '', '',\n",
            "        '', '', '', '', '', '7.35'],\n",
            "       ['29.0', '', '83.0', '', '', '', '', '', '', '98', '', '105',\n",
            "        '100.0', '', '141.0', '', '', ''],\n",
            "       ['30.0', '', '79.0', '', '', '', '', '', '', '86', '', '99',\n",
            "        '99.0', '12', '137.0', '', '', ''],\n",
            "       ['31.0', '', '85.0', '', '', '', '', '', '', '91', '', '107',\n",
            "        '97.0', '15', '146.0', '', '', ''],\n",
            "       ['32.0', '', '84.0', '', '4 Spontaneously', '6 Obeys Commands',\n",
            "        '15', '5 Oriented', '', '90', '', '104', '99.0', '20', '139.0',\n",
            "        '36.83333502875434', '', ''],\n",
            "       ['33.0', '', '84.0', '', '', '', '', '', '', '92', '', '105',\n",
            "        '100.0', '16', '144.0', '', '', ''],\n",
            "       ['34.0', '', '76.0', '', '', '', '', '', '', '87', '', '95',\n",
            "        '98.0', '7', '132.0', '', '', ''],\n",
            "       ['35.0', '', '74.0', '', '', '', '', '', '', '89', '', '91',\n",
            "        '99.0', '12', '123.0', '', '', '']], dtype='<U19'), array([['11.866666666666667', '', '', ..., '', '', '5.0'],\n",
            "       ['12.0', '', '', ..., '', '', '7.15'],\n",
            "       ['12.75', '', '37.0', ..., '38.555599212646484', '100.0', ''],\n",
            "       ...,\n",
            "       ['249.0', '', '65.0', ..., '', '', ''],\n",
            "       ['250.0', '', '64.0', ..., '', '', ''],\n",
            "       ['251.0', '', '65.0', ..., '', '', '']], dtype='<U18')]\n",
            "data_ts =  [[5.0, 6.0, 7.0, 8.0, 9.0, 10.0, 11.0, 12.0, 13.0, 14.0, 15.0, 16.0, 17.0, 18.0, 19.0, 20.0, 21.0, 22.0, 23.0, 24.0, 25.0, 26.0, 27.0, 28.0, 29.0, 30.0, 31.0, 32.0, 33.0, 34.0, 35.0], [12.0, 13.0, 14.0, 15.0, 16.0, 17.0, 18.0, 19.0, 20.0, 21.0, 22.0, 23.0, 24.0, 25.0, 26.0, 27.0, 28.0, 29.0, 30.0, 31.0, 32.0, 33.0, 34.0, 35.0, 36.0, 37.0, 38.0, 39.0, 40.0, 41.0, 42.0, 43.0, 44.0, 45.0, 46.0, 47.0, 48.0, 49.0, 50.0, 51.0, 52.0, 53.0, 54.0, 55.0, 56.0, 57.0, 58.0, 59.0, 60.0, 61.0, 62.0, 63.0, 64.0, 65.0, 66.0, 67.0, 68.0, 69.0, 70.0, 71.0, 72.0, 73.0, 74.0, 75.0, 76.0, 77.0, 78.0, 79.0, 80.0, 81.0, 82.0, 83.0, 84.0, 85.0, 86.0, 87.0, 88.0, 89.0, 90.0, 91.0, 92.0, 93.0, 94.0, 95.0, 96.0, 97.0, 98.0, 99.0, 100.0, 101.0, 102.0, 103.0, 104.0, 105.0, 106.0, 107.0, 108.0, 109.0, 110.0, 111.0, 112.0, 113.0, 114.0, 115.0, 116.0, 117.0, 118.0, 119.0, 120.0, 121.0, 122.0, 123.0, 124.0, 125.0, 126.0, 127.0, 128.0, 129.0, 130.0, 131.0, 132.0, 133.0, 134.0, 135.0, 136.0, 137.0, 138.0, 139.0, 140.0, 141.0, 142.0, 143.0, 144.0, 145.0, 146.0, 147.0, 148.0, 149.0, 150.0, 151.0, 152.0, 153.0, 154.0, 155.0, 156.0, 157.0, 158.0, 159.0, 160.0, 161.0, 162.0, 163.0, 164.0, 165.0, 166.0, 167.0, 168.0, 169.0, 170.0, 171.0, 172.0, 173.0, 174.0, 175.0, 176.0, 177.0, 178.0, 179.0, 180.0, 181.0, 182.0, 183.0, 184.0, 185.0, 186.0, 187.0, 188.0, 189.0, 190.0, 191.0, 192.0, 193.0, 194.0, 195.0, 196.0, 197.0, 198.0, 199.0, 200.0, 201.0, 202.0, 203.0, 204.0, 205.0, 206.0, 207.0, 208.0, 209.0, 210.0, 211.0, 212.0, 213.0, 214.0, 215.0, 216.0, 217.0, 218.0, 219.0, 220.0, 221.0, 222.0, 223.0, 224.0, 225.0, 226.0, 227.0, 228.0, 229.0, 230.0, 231.0, 232.0, 233.0, 234.0, 235.0, 236.0, 237.0, 238.0, 239.0, 240.0, 241.0, 242.0, 243.0, 244.0, 245.0, 246.0, 247.0, 248.0, 249.0, 250.0, 251.0]]\n",
            "ground truth =  [['0\\n', '0\\n', '0\\n', '0\\n', '0\\n', '0\\n', '0\\n', '0\\n', '0\\n', '0\\n', '0\\n', '0\\n', '0\\n', '0\\n', '0\\n', '0\\n', '0\\n', '0\\n', '0\\n', '0\\n', '0\\n', '0\\n', '0\\n', '0\\n', '0\\n', '0\\n', '0\\n', '0\\n', '0\\n', '0\\n', '0\\n'], ['0\\n', '0\\n', '0\\n', '0\\n', '0\\n', '0\\n', '0\\n', '0\\n', '0\\n', '0\\n', '0\\n', '0\\n', '0\\n', '0\\n', '0\\n', '0\\n', '0\\n', '0\\n', '0\\n', '0\\n', '0\\n', '0\\n', '0\\n', '0\\n', '0\\n', '0\\n', '0\\n', '0\\n', '0\\n', '0\\n', '0\\n', '0\\n', '0\\n', '0\\n', '0\\n', '0\\n', '0\\n', '0\\n', '0\\n', '0\\n', '0\\n', '0\\n', '0\\n', '0\\n', '0\\n', '0\\n', '0\\n', '0\\n', '0\\n', '0\\n', '0\\n', '0\\n', '0\\n', '0\\n', '0\\n', '0\\n', '0\\n', '0\\n', '0\\n', '0\\n', '0\\n', '0\\n', '0\\n', '0\\n', '0\\n', '0\\n', '0\\n', '0\\n', '0\\n', '0\\n', '0\\n', '0\\n', '0\\n', '0\\n', '0\\n', '0\\n', '0\\n', '0\\n', '0\\n', '0\\n', '0\\n', '0\\n', '0\\n', '0\\n', '0\\n', '0\\n', '0\\n', '0\\n', '0\\n', '0\\n', '0\\n', '0\\n', '0\\n', '0\\n', '0\\n', '0\\n', '0\\n', '0\\n', '0\\n', '0\\n', '0\\n', '0\\n', '0\\n', '0\\n', '0\\n', '0\\n', '0\\n', '0\\n', '0\\n', '0\\n', '0\\n', '0\\n', '0\\n', '0\\n', '0\\n', '0\\n', '0\\n', '0\\n', '0\\n', '0\\n', '0\\n', '0\\n', '0\\n', '0\\n', '0\\n', '0\\n', '0\\n', '0\\n', '0\\n', '0\\n', '0\\n', '0\\n', '0\\n', '0\\n', '0\\n', '0\\n', '0\\n', '0\\n', '0\\n', '0\\n', '0\\n', '0\\n', '0\\n', '0\\n', '0\\n', '0\\n', '0\\n', '0\\n', '0\\n', '0\\n', '0\\n', '0\\n', '0\\n', '0\\n', '0\\n', '0\\n', '0\\n', '0\\n', '0\\n', '0\\n', '0\\n', '0\\n', '0\\n', '0\\n', '0\\n', '0\\n', '0\\n', '0\\n', '0\\n', '0\\n', '0\\n', '0\\n', '0\\n', '0\\n', '0\\n', '0\\n', '0\\n', '0\\n', '0\\n', '0\\n', '0\\n', '0\\n', '0\\n', '0\\n', '0\\n', '0\\n', '0\\n', '0\\n', '0\\n', '0\\n', '0\\n', '0\\n', '0\\n', '0\\n', '0\\n', '0\\n', '0\\n', '0\\n', '0\\n', '0\\n', '0\\n', '0\\n', '0\\n', '0\\n', '0\\n', '0\\n', '0\\n', '0\\n', '0\\n', '0\\n', '0\\n', '0\\n', '0\\n', '0\\n', '0\\n', '0\\n', '0\\n', '0\\n', '0\\n', '0\\n', '0\\n', '0\\n', '0\\n', '0\\n', '0\\n', '0\\n', '0\\n', '0\\n', '0\\n', '0\\n', '0\\n', '0\\n', '0\\n', '0\\n', '0\\n', '0\\n', '0\\n', '0\\n', '0\\n', '0\\n']]\n",
            "data_name =  ['10003_episode1_timeseries.csv', '10004_episode1_timeseries.csv']\n",
            "val\n",
            "length of data_X =  6107\n",
            "length of data_X =  [array([['4.666666666666667', '', '', '', '', '', '', '', '93.0', '', '',\n",
            "        '', '', '', '', '', '', ''],\n",
            "       ['14.75', '', '62.0', '', '4 Spontaneously', '6 Obeys Commands',\n",
            "        '15', '5 Oriented', '', '80', '', '74.666702270507812', '96.0',\n",
            "        '15', '100.0', '36.61111195882162', '120.0', ''],\n",
            "       ['15.0', '', '38.0', '', '', '', '', '', '', '78', '', '58',\n",
            "        '99.0', '12', '98.0', '', '', ''],\n",
            "       ['16.0', '', '50.0', '', '', '', '', '', '', '85', '',\n",
            "        '68.333297729492188', '100.0', '14', '105.0', '', '', ''],\n",
            "       ['17.0', '', '56.0', '', '', '', '', '', '', '96', '',\n",
            "        '74.666702270507812', '97.0', '20', '112.0', '', '', ''],\n",
            "       ['18.0', '', '59.0', '', '', '', '', '', '', '90', '',\n",
            "        '75.333297729492188', '97.0', '18', '108.0', '', '', ''],\n",
            "       ['19.0', '0.0', '56.0', '', '4 Spontaneously', '6 Obeys Commands',\n",
            "        '15', '5 Oriented', '', '93', '', '74', '99.0', '14', '110.0',\n",
            "        '37.777801513671875', '', ''],\n",
            "       ['20.0', '0.0', '59.0', '', '', '', '', '', '', '98', '', '79',\n",
            "        '96.0', '17', '119.0', '', '', ''],\n",
            "       ['21.0', '0.0', '53.0', '', '4 Spontaneously', '6 Obeys Commands',\n",
            "        '15', '5 Oriented', '', '102', '', '73.333297729492188', '94.0',\n",
            "        '20', '114.0', '', '', ''],\n",
            "       ['22.0', '', '62.0', '', '', '', '', '', '', '100', '',\n",
            "        '82.333297729492188', '97.0', '17', '123.0', '', '', ''],\n",
            "       ['23.0', '0.0', '59.0', '', '4 Spontaneously', '6 Obeys Commands',\n",
            "        '15', '5 Oriented', '', '102', '', '78', '98.0', '16', '116.0',\n",
            "        '37.777801513671875', '', ''],\n",
            "       ['24.0', '', '56.0', '', '', '', '', '', '', '100', '',\n",
            "        '68.666702270507812', '98.0', '16', '94.0', '', '', ''],\n",
            "       ['25.0', '', '62.0', '', '', '', '', '', '', '100', '', '80',\n",
            "        '97.0', '17', '116.0', '', '', ''],\n",
            "       ['26.0', '', '72.0', '', '', '', '', '', '', '100', '',\n",
            "        '89.333297729492188', '98.0', '17', '124.0', '', '', ''],\n",
            "       ['27.0', '0.0', '55.0', '', '4 Spontaneously', '6 Obeys Commands',\n",
            "        '15', '5 Oriented', '', '97', '', '67.666702270507812', '99.0',\n",
            "        '16', '93.0', '36.777801513671875', '', ''],\n",
            "       ['27.5', '', '', '', '', '', '', '', '131.0', '', '', '', '', '',\n",
            "        '', '', '', ''],\n",
            "       ['28.0', '', '54.0', '', '', '', '', '', '', '98', '',\n",
            "        '74.666702270507812', '99.0', '15', '116.0', '', '', ''],\n",
            "       ['29.0', '', '', '', '', '', '', '', '', '97', '', '', '99.0',\n",
            "        '16', '', '', '', ''],\n",
            "       ['30.0', '', '56.0', '', '', '', '', '', '', '96', '',\n",
            "        '79.333297729492188', '100.0', '15', '126.0', '', '', ''],\n",
            "       ['31.0', '0.0', '66.0', '', '4 Spontaneously', '6 Obeys Commands',\n",
            "        '15', '5 Oriented', '', '95', '', '86', '100.0', '18', '126.0',\n",
            "        '37.66669845581055', '', ''],\n",
            "       ['33.0', '', '', '', '', '', '', '', '', '92', '', '', '98.0',\n",
            "        '14', '', '', '', ''],\n",
            "       ['35.0', '0.0', '58.0', '', '4 Spontaneously', '6 Obeys Commands',\n",
            "        '15', '5 Oriented', '', '91', '', '81.333297729492188', '92.0',\n",
            "        '18', '128.0', '37.16669845581055', '', ''],\n",
            "       ['37.0', '', '63.0', '', '', '', '', '', '', '94', '',\n",
            "        '82.666702270507812', '96.0', '16', '122.0', '', '', ''],\n",
            "       ['39.0', '0.0', '', '', '4 Spontaneously', '6 Obeys Commands',\n",
            "        '15', '5 Oriented', '', '91', '', '', '96.0', '15', '', '', '',\n",
            "        ''],\n",
            "       ['41.0', '', '73.0', '', '', '', '', '', '', '91', '',\n",
            "        '92.666702270507812', '83.0', '13', '132.0',\n",
            "        '38.777801513671875', '', ''],\n",
            "       ['42.0', '', '', '', '', '', '', '', '', '92', '', '', '92.0',\n",
            "        '10', '', '', '', ''],\n",
            "       ['43.0', '0.0', '43.0', '', '4 Spontaneously', '6 Obeys Commands',\n",
            "        '15', '5 Oriented', '', '94', '', '61', '92.0', '14', '97.0',\n",
            "        '37.83333248562283', '', ''],\n",
            "       ['44.0', '0.0', '60.0', '', '', '', '', '', '', '91', '',\n",
            "        '75.666702270507812', '99.0', '13', '107.0', '', '', '']],\n",
            "      dtype='<U18'), array([['1.75', '', '', '', '', '', '', '', '', '', '', '', '', '', '',\n",
            "        '', '', '5.0'],\n",
            "       ['5.5', '', '', '', '', '', '', '', '158.0', '', '', '', '', '',\n",
            "        '', '', '', ''],\n",
            "       ['14.0', '', '75.0', '', '4 Spontaneously', '6 Obeys Commands',\n",
            "        '', '', '', '98', '', '100', '97.0', '18', '160.0',\n",
            "        '36.44444359673394', '', ''],\n",
            "       ['15.0', '', '62.0', '', '', '', '', '', '', '91', '', '94',\n",
            "        '93.0', '17', '159.0', '', '', ''],\n",
            "       ['15.933333333333334', '', '', '', '', '', '', '', '182.0', '',\n",
            "        '', '', '', '', '', '', '', ''],\n",
            "       ['16.0', '', '64.0', '', '', '', '', '', '', '103', '', '96',\n",
            "        '93.0', '17', '163.0', '', '', ''],\n",
            "       ['17.0', '', '', '', '', '', '', '', '', '97', '', '', '96.0',\n",
            "        '20', '', '', '', ''],\n",
            "       ['18.0', '', '69.0', '', '4 Spontaneously', '6 Obeys Commands',\n",
            "        '15', '5 Oriented', '', '97', '', '100', '96.0', '13', '164.0',\n",
            "        '36.222220526801216', '', ''],\n",
            "       ['19.0', '', '76.0', '', '', '', '', '', '', '86', '', '103',\n",
            "        '94.0', '18', '154.0', '', '', ''],\n",
            "       ['20.0', '', '95.0', '', '4 Spontaneously', '6 Obeys Commands',\n",
            "        '15', '5 Oriented', '', '99', '', '124', '93.0', '18', '184.0',\n",
            "        '36.16669845581055', '', ''],\n",
            "       ['21.0', '', '92.0', '', '', '', '', '', '', '100', '', '117',\n",
            "        '96.0', '27', '168.0', '', '', ''],\n",
            "       ['22.0', '', '79.0', '', '', '', '', '', '159.0', '97', '', '103',\n",
            "        '94.0', '18', '169.0', '', '', ''],\n",
            "       ['23.0', '', '70.0', '', '', '', '', '', '', '93', '', '101',\n",
            "        '94.0', '16', '166.0', '', '', ''],\n",
            "       ['24.0', '', '70.0', '', '', '', '', '', '', '91', '', '96',\n",
            "        '94.0', '16', '164.0', '', '', ''],\n",
            "       ['25.0', '', '67.0', '', '', '', '', '', '', '80', '', '90',\n",
            "        '96.0', '14', '134.0', '', '', '']], dtype='<U18')]\n",
            "data_ts =  [[5.0, 6.0, 7.0, 8.0, 9.0, 10.0, 11.0, 12.0, 13.0, 14.0, 15.0, 16.0, 17.0, 18.0, 19.0, 20.0, 21.0, 22.0, 23.0, 24.0, 25.0, 26.0, 27.0, 28.0, 29.0, 30.0, 31.0, 32.0, 33.0, 34.0, 35.0, 36.0, 37.0, 38.0, 39.0, 40.0, 41.0, 42.0, 43.0, 44.0], [5.0, 6.0, 7.0, 8.0, 9.0, 10.0, 11.0, 12.0, 13.0, 14.0, 15.0, 16.0, 17.0, 18.0, 19.0, 20.0, 21.0, 22.0, 23.0, 24.0, 25.0]]\n",
            "ground truth =  [['0\\n', '0\\n', '0\\n', '0\\n', '0\\n', '0\\n', '0\\n', '0\\n', '0\\n', '0\\n', '0\\n', '0\\n', '0\\n', '0\\n', '0\\n', '0\\n', '0\\n', '0\\n', '0\\n', '0\\n', '0\\n', '0\\n', '0\\n', '0\\n', '0\\n', '0\\n', '0\\n', '0\\n', '0\\n', '0\\n', '0\\n', '0\\n', '0\\n', '0\\n', '0\\n', '0\\n', '0\\n', '0\\n', '0\\n', '0\\n'], ['0\\n', '0\\n', '0\\n', '0\\n', '0\\n', '0\\n', '0\\n', '0\\n', '0\\n', '0\\n', '0\\n', '0\\n', '0\\n', '0\\n', '0\\n', '0\\n', '0\\n', '0\\n', '0\\n', '0\\n', '0\\n']]\n",
            "data_name =  ['10022_episode1_timeseries.csv', '10033_episode1_timeseries.csv']\n"
          ]
        }
      ]
    },
    {
      "cell_type": "markdown",
      "source": [
        "##Methodology explanation and examples (1)"
      ],
      "metadata": {
        "id": "SG5I4TvOeVzu"
      }
    },
    {
      "cell_type": "markdown",
      "source": [
        "We run our experiment with different learning rate and dropout rate. Specifically with lr = [1e-3, 5e-4, 1e-4] and with dropout rate = [0.3, 0.5], which means that there are 6 different experiments. We also run learning rate decay on lr=1e-4, dropout rate=0.3. \n",
        "\n",
        "The result is that having learning rate decay will produce the best performance.\n",
        "\n",
        "For ablation study, we run 2 experiments. First one is we replace the stage-aware LSTM cell with default LSTM cell from pytorch. The result shows that AUPRC will have 4.5% decrease. The second one is we replace the stage-adaptive convolutional network with linear layer. The result shows that AUPRC will have a 11.6% decrease."
      ],
      "metadata": {
        "id": "SGoVhpmxkFK-"
      }
    },
    {
      "cell_type": "markdown",
      "source": [
        "##Illustration of the results (tables, charts) (1)"
      ],
      "metadata": {
        "id": "iD4qA-4VeVsv"
      }
    },
    {
      "cell_type": "markdown",
      "source": [
        "| Model | AUPRC | AUROC | min(Re, p+) |\n",
        "| :---: | :---: | :---: | :---: |\n",
        "| Reproduced model w/o lr decay | 0.154 | 0.858 | 0.226 |\n",
        "| Reproduced model w/ lr decay=1e-5 | 0.156 | 0.859 | 0.232 | "
      ],
      "metadata": {
        "id": "qArWAS7QjxP6"
      }
    },
    {
      "cell_type": "markdown",
      "source": [
        "##References (1)"
      ],
      "metadata": {
        "id": "tMcYSjaaeVgk"
      }
    },
    {
      "cell_type": "markdown",
      "source": [
        "StageNet Github: https://github.com/v1xerunt/StageNet\n",
        "\n",
        "StageNet Paper: https://arxiv.org/abs/2001.10054\n",
        "\n",
        "RETAIN: https://arxiv.org/abs/1608.05745\n",
        "\n",
        "T-LSTM: https://dl.acm.org/doi/10.1145/3097983.3097997"
      ],
      "metadata": {
        "id": "ms9H6vwdgOrB"
      }
    },
    {
      "cell_type": "code",
      "source": [],
      "metadata": {
        "id": "mi6B_vppgYCY"
      },
      "execution_count": null,
      "outputs": []
    }
  ]
}